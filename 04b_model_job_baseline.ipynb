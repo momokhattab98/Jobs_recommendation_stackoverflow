{
 "cells": [
  {
   "cell_type": "code",
   "execution_count": 1,
   "id": "6824b842-9cf8-40fb-9792-ec3b17167001",
   "metadata": {},
   "outputs": [],
   "source": [
    "DF_PATH       = \"../data/processed/2_cleaned_data.pkl\"\n",
    "\n",
    "ROLE_COLS      = ['DevType']\n",
    "TECH_COLS      = ['LanguageHaveWorkedWith',\n",
    "                  'DatabaseHaveWorkedWith',\n",
    "                  'PlatformHaveWorkedWith',\n",
    "                  'WebframeHaveWorkedWith',\n",
    "                  'MiscTechHaveWorkedWith',\n",
    "                  'ToolsTechHaveWorkedWith',\n",
    "                  'NEWCollabToolsHaveWorkedWith']\n",
    "\n",
    "MLFLOW_TRACKING_URI = '../models/mlruns'\n",
    "MLFLOW_EXPERIMENT_NAME = \"skills_jobs_stackoverflow\"\n",
    "\n",
    "LOG_PATH = \"../models/temp/\"\n",
    "LOG_DATA_PKL    =  \"data.pkl\"\n",
    "LOG_MODEL_PKL   =  \"model.pkl\"\n",
    "LOG_METRICS_PKL =  \"metrics.pkl\""
   ]
  },
  {
   "cell_type": "code",
   "execution_count": 2,
   "id": "d23c1608-0388-4846-bef3-d6cb67ed7539",
   "metadata": {
    "tags": []
   },
   "outputs": [],
   "source": [
    "# Load packages\n",
    "import pandas as pd \n",
    "import numpy as np\n",
    "import logging\n",
    "import pickle\n",
    "import random\n",
    "import plotly \n",
    "import os\n",
    "from pathlib import Path\n",
    "\n",
    "import mlflow\n",
    "from mlflow.tracking import MlflowClient\n",
    "\n",
    "from sklearn.preprocessing import MultiLabelBinarizer\n",
    "from sklearn.preprocessing import StandardScaler, RobustScaler, MinMaxScaler\n",
    "from sklearn.pipeline import make_pipeline, FeatureUnion\n",
    "from sklearn.feature_selection import VarianceThreshold\n",
    "from sklearn.multioutput import MultiOutputClassifier\n",
    "from sklearn.model_selection import train_test_split\n",
    "from sklearn.model_selection import GridSearchCV\n",
    "\n",
    "from sklearn import metrics\n",
    "from sklearn.metrics import auc, accuracy_score, confusion_matrix, f1_score, precision_score, recall_score\n",
    "\n",
    "from sklearn.decomposition import PCA, KernelPCA\n",
    "\n",
    "from sklearn import tree\n",
    "from sklearn.linear_model import LogisticRegression\n",
    "\n",
    "from matplotlib import pyplot as plt"
   ]
  },
  {
   "cell_type": "markdown",
   "id": "ebf3f245-5fe8-4f1a-a135-a9a670419bc5",
   "metadata": {},
   "source": [
    "_________"
   ]
  },
  {
   "cell_type": "markdown",
   "id": "717dc150-ba0c-48a2-9cfc-a6d259cff5c0",
   "metadata": {
    "tags": []
   },
   "source": [
    "### Functions"
   ]
  },
  {
   "cell_type": "code",
   "execution_count": 3,
   "id": "91508beb-46d3-416f-a359-cbd9f234afe8",
   "metadata": {},
   "outputs": [],
   "source": [
    "def calculate_quality(ground_truth, predictions, metric_function, sort_values=False):\n",
    "    quality_scores = {}\n",
    "    for col in predictions.columns:\n",
    "        role_pred  = predictions[col].copy()\n",
    "        role_truth = ground_truth[col].copy()\n",
    "        quality_scores[col] = round(metric_function(role_truth, role_pred) * 100, 2)\n",
    "        \n",
    "    quality_scores = pd.Series(quality_scores.values(), index=quality_scores.keys())\n",
    "    if sort_values:\n",
    "        quality_scores = quality_scores.sort_values()\n",
    "    \n",
    "    return quality_scores"
   ]
  },
  {
   "cell_type": "markdown",
   "source": [
    "_________"
   ],
   "metadata": {
    "collapsed": false
   }
  },
  {
   "cell_type": "markdown",
   "source": [
    "# Initialize"
   ],
   "metadata": {
    "collapsed": false,
    "pycharm": {
     "name": "#%% md\n"
    }
   }
  },
  {
   "cell_type": "markdown",
   "source": [
    "### Create directories"
   ],
   "metadata": {
    "collapsed": false
   }
  },
  {
   "cell_type": "code",
   "execution_count": 4,
   "outputs": [],
   "source": [
    "Path(MLFLOW_TRACKING_URI).mkdir(parents=True, exist_ok=True)\n",
    "Path(LOG_PATH).mkdir(parents=True, exist_ok=True)"
   ],
   "metadata": {
    "collapsed": false,
    "pycharm": {
     "name": "#%%\n"
    }
   }
  },
  {
   "cell_type": "markdown",
   "source": [
    "### Read data"
   ],
   "metadata": {
    "collapsed": false
   }
  },
  {
   "cell_type": "code",
   "execution_count": 5,
   "outputs": [
    {
     "data": {
      "text/plain": "                  DevType                           \\\n      Academic researcher Data or business analyst   \n0                       0                        0   \n3                       0                        0   \n4                       0                        0   \n8                       0                        0   \n9                       0                        0   \n...                   ...                      ...   \n83434                   0                        0   \n83435                   0                        0   \n83436                   0                        0   \n83437                   0                        0   \n83438                   0                        0   \n\n                                                                            \\\n      Data scientist or machine learning specialist Database administrator   \n0                                                 0                      0   \n3                                                 0                      0   \n4                                                 0                      0   \n8                                                 0                      0   \n9                                                 1                      0   \n...                                             ...                    ...   \n83434                                             0                      0   \n83435                                             0                      0   \n83436                                             1                      0   \n83437                                             0                      0   \n83438                                             0                      0   \n\n                                                                   \\\n      DevOps specialist Developer, QA or test Developer, back-end   \n0                     0                     0                   0   \n3                     0                     0                   0   \n4                     0                     0                   0   \n8                     0                     0                   0   \n9                     0                     0                   0   \n...                 ...                   ...                 ...   \n83434                 0                     0                   1   \n83435                 0                     0                   0   \n83436                 1                     0                   0   \n83437                 0                     0                   1   \n83438                 0                     0                   1   \n\n                                                     \\\n      Developer, desktop or enterprise applications   \n0                                                 0   \n3                                                 0   \n4                                                 1   \n8                                                 0   \n9                                                 0   \n...                                             ...   \n83434                                             0   \n83435                                             0   \n83436                                             0   \n83437                                             0   \n83438                                             0   \n\n                                                                        ...  \\\n      Developer, embedded applications or devices Developer, front-end  ...   \n0                                               0                    0  ...   \n3                                               0                    1  ...   \n4                                               0                    0  ...   \n8                                               0                    1  ...   \n9                                               0                    0  ...   \n...                                           ...                  ...  ...   \n83434                                           0                    0  ...   \n83435                                           0                    0  ...   \n83436                                           0                    0  ...   \n83437                                           0                    0  ...   \n83438                                           0                    1  ...   \n\n      skills_clusters                                                 \\\n      skills_group_20 skills_group_21 skills_group_22 skills_group_3   \n0                   0               0               0              4   \n3                   0               0               0              0   \n4                   2               0               0              1   \n8                   0               0               0              0   \n9                   0               0               3              0   \n...               ...             ...             ...            ...   \n83434               0               0               0              1   \n83435               1               0               0              4   \n83436               2               0               1              0   \n83437               3               0               2              0   \n83438               0               1               0              0   \n\n                                                                   \\\n      skills_group_4 skills_group_5 skills_group_6 skills_group_7   \n0                  0              0              0              0   \n3                  0              0              0              0   \n4                  0              0              0              1   \n8                  0              0              0              0   \n9                  0              0              0              0   \n...              ...            ...            ...            ...   \n83434              1              0              0              0   \n83435              1              0              0              1   \n83436              0              0              2              1   \n83437              0              0              2              5   \n83438              0              1              0              0   \n\n                                     \n      skills_group_8 skills_group_9  \n0                  0              1  \n3                  0              0  \n4                  0              4  \n8                  0              4  \n9                  0              2  \n...              ...            ...  \n83434              0              3  \n83435              1              2  \n83436              0              5  \n83437              0              3  \n83438              0              3  \n\n[46412 rows x 164 columns]",
      "text/html": "<div>\n<style scoped>\n    .dataframe tbody tr th:only-of-type {\n        vertical-align: middle;\n    }\n\n    .dataframe tbody tr th {\n        vertical-align: top;\n    }\n\n    .dataframe thead tr th {\n        text-align: left;\n    }\n</style>\n<table border=\"1\" class=\"dataframe\">\n  <thead>\n    <tr>\n      <th></th>\n      <th colspan=\"10\" halign=\"left\">DevType</th>\n      <th>...</th>\n      <th colspan=\"10\" halign=\"left\">skills_clusters</th>\n    </tr>\n    <tr>\n      <th></th>\n      <th>Academic researcher</th>\n      <th>Data or business analyst</th>\n      <th>Data scientist or machine learning specialist</th>\n      <th>Database administrator</th>\n      <th>DevOps specialist</th>\n      <th>Developer, QA or test</th>\n      <th>Developer, back-end</th>\n      <th>Developer, desktop or enterprise applications</th>\n      <th>Developer, embedded applications or devices</th>\n      <th>Developer, front-end</th>\n      <th>...</th>\n      <th>skills_group_20</th>\n      <th>skills_group_21</th>\n      <th>skills_group_22</th>\n      <th>skills_group_3</th>\n      <th>skills_group_4</th>\n      <th>skills_group_5</th>\n      <th>skills_group_6</th>\n      <th>skills_group_7</th>\n      <th>skills_group_8</th>\n      <th>skills_group_9</th>\n    </tr>\n  </thead>\n  <tbody>\n    <tr>\n      <th>0</th>\n      <td>0</td>\n      <td>0</td>\n      <td>0</td>\n      <td>0</td>\n      <td>0</td>\n      <td>0</td>\n      <td>0</td>\n      <td>0</td>\n      <td>0</td>\n      <td>0</td>\n      <td>...</td>\n      <td>0</td>\n      <td>0</td>\n      <td>0</td>\n      <td>4</td>\n      <td>0</td>\n      <td>0</td>\n      <td>0</td>\n      <td>0</td>\n      <td>0</td>\n      <td>1</td>\n    </tr>\n    <tr>\n      <th>3</th>\n      <td>0</td>\n      <td>0</td>\n      <td>0</td>\n      <td>0</td>\n      <td>0</td>\n      <td>0</td>\n      <td>0</td>\n      <td>0</td>\n      <td>0</td>\n      <td>1</td>\n      <td>...</td>\n      <td>0</td>\n      <td>0</td>\n      <td>0</td>\n      <td>0</td>\n      <td>0</td>\n      <td>0</td>\n      <td>0</td>\n      <td>0</td>\n      <td>0</td>\n      <td>0</td>\n    </tr>\n    <tr>\n      <th>4</th>\n      <td>0</td>\n      <td>0</td>\n      <td>0</td>\n      <td>0</td>\n      <td>0</td>\n      <td>0</td>\n      <td>0</td>\n      <td>1</td>\n      <td>0</td>\n      <td>0</td>\n      <td>...</td>\n      <td>2</td>\n      <td>0</td>\n      <td>0</td>\n      <td>1</td>\n      <td>0</td>\n      <td>0</td>\n      <td>0</td>\n      <td>1</td>\n      <td>0</td>\n      <td>4</td>\n    </tr>\n    <tr>\n      <th>8</th>\n      <td>0</td>\n      <td>0</td>\n      <td>0</td>\n      <td>0</td>\n      <td>0</td>\n      <td>0</td>\n      <td>0</td>\n      <td>0</td>\n      <td>0</td>\n      <td>1</td>\n      <td>...</td>\n      <td>0</td>\n      <td>0</td>\n      <td>0</td>\n      <td>0</td>\n      <td>0</td>\n      <td>0</td>\n      <td>0</td>\n      <td>0</td>\n      <td>0</td>\n      <td>4</td>\n    </tr>\n    <tr>\n      <th>9</th>\n      <td>0</td>\n      <td>0</td>\n      <td>1</td>\n      <td>0</td>\n      <td>0</td>\n      <td>0</td>\n      <td>0</td>\n      <td>0</td>\n      <td>0</td>\n      <td>0</td>\n      <td>...</td>\n      <td>0</td>\n      <td>0</td>\n      <td>3</td>\n      <td>0</td>\n      <td>0</td>\n      <td>0</td>\n      <td>0</td>\n      <td>0</td>\n      <td>0</td>\n      <td>2</td>\n    </tr>\n    <tr>\n      <th>...</th>\n      <td>...</td>\n      <td>...</td>\n      <td>...</td>\n      <td>...</td>\n      <td>...</td>\n      <td>...</td>\n      <td>...</td>\n      <td>...</td>\n      <td>...</td>\n      <td>...</td>\n      <td>...</td>\n      <td>...</td>\n      <td>...</td>\n      <td>...</td>\n      <td>...</td>\n      <td>...</td>\n      <td>...</td>\n      <td>...</td>\n      <td>...</td>\n      <td>...</td>\n      <td>...</td>\n    </tr>\n    <tr>\n      <th>83434</th>\n      <td>0</td>\n      <td>0</td>\n      <td>0</td>\n      <td>0</td>\n      <td>0</td>\n      <td>0</td>\n      <td>1</td>\n      <td>0</td>\n      <td>0</td>\n      <td>0</td>\n      <td>...</td>\n      <td>0</td>\n      <td>0</td>\n      <td>0</td>\n      <td>1</td>\n      <td>1</td>\n      <td>0</td>\n      <td>0</td>\n      <td>0</td>\n      <td>0</td>\n      <td>3</td>\n    </tr>\n    <tr>\n      <th>83435</th>\n      <td>0</td>\n      <td>0</td>\n      <td>0</td>\n      <td>0</td>\n      <td>0</td>\n      <td>0</td>\n      <td>0</td>\n      <td>0</td>\n      <td>0</td>\n      <td>0</td>\n      <td>...</td>\n      <td>1</td>\n      <td>0</td>\n      <td>0</td>\n      <td>4</td>\n      <td>1</td>\n      <td>0</td>\n      <td>0</td>\n      <td>1</td>\n      <td>1</td>\n      <td>2</td>\n    </tr>\n    <tr>\n      <th>83436</th>\n      <td>0</td>\n      <td>0</td>\n      <td>1</td>\n      <td>0</td>\n      <td>1</td>\n      <td>0</td>\n      <td>0</td>\n      <td>0</td>\n      <td>0</td>\n      <td>0</td>\n      <td>...</td>\n      <td>2</td>\n      <td>0</td>\n      <td>1</td>\n      <td>0</td>\n      <td>0</td>\n      <td>0</td>\n      <td>2</td>\n      <td>1</td>\n      <td>0</td>\n      <td>5</td>\n    </tr>\n    <tr>\n      <th>83437</th>\n      <td>0</td>\n      <td>0</td>\n      <td>0</td>\n      <td>0</td>\n      <td>0</td>\n      <td>0</td>\n      <td>1</td>\n      <td>0</td>\n      <td>0</td>\n      <td>0</td>\n      <td>...</td>\n      <td>3</td>\n      <td>0</td>\n      <td>2</td>\n      <td>0</td>\n      <td>0</td>\n      <td>0</td>\n      <td>2</td>\n      <td>5</td>\n      <td>0</td>\n      <td>3</td>\n    </tr>\n    <tr>\n      <th>83438</th>\n      <td>0</td>\n      <td>0</td>\n      <td>0</td>\n      <td>0</td>\n      <td>0</td>\n      <td>0</td>\n      <td>1</td>\n      <td>0</td>\n      <td>0</td>\n      <td>1</td>\n      <td>...</td>\n      <td>0</td>\n      <td>1</td>\n      <td>0</td>\n      <td>0</td>\n      <td>0</td>\n      <td>1</td>\n      <td>0</td>\n      <td>0</td>\n      <td>0</td>\n      <td>3</td>\n    </tr>\n  </tbody>\n</table>\n<p>46412 rows × 164 columns</p>\n</div>"
     },
     "execution_count": 5,
     "metadata": {},
     "output_type": "execute_result"
    }
   ],
   "source": [
    "# Read Data\n",
    "df = pd.read_pickle(DF_PATH)\n",
    "df"
   ],
   "metadata": {
    "collapsed": false,
    "pycharm": {
     "name": "#%%\n"
    }
   }
  },
  {
   "cell_type": "markdown",
   "id": "672d7a9c-3b9e-44bf-a360-28879aca6720",
   "metadata": {
    "tags": []
   },
   "source": [
    "### Balance classes "
   ]
  },
  {
   "cell_type": "code",
   "execution_count": 6,
   "id": "1a4498b3-c98d-43a2-89d6-9f957c3163c7",
   "metadata": {},
   "outputs": [
    {
     "data": {
      "text/plain": "Academic researcher                               1708\nData or business analyst                          1658\nData scientist or machine learning specialist     2460\nDatabase administrator                            1210\nDevOps specialist                                 3056\nDeveloper, QA or test                             1135\nDeveloper, back-end                              17084\nDeveloper, desktop or enterprise applications     4845\nDeveloper, embedded applications or devices       2138\nDeveloper, front-end                              8932\nDeveloper, full-stack                            20655\nDeveloper, game or graphics                        899\nDeveloper, mobile                                 4751\nEngineer, data                                    1941\nScientist                                         1046\nSystem administrator                              2069\ndtype: int64"
     },
     "execution_count": 6,
     "metadata": {},
     "output_type": "execute_result"
    }
   ],
   "source": [
    "# Check the total samples of roles\n",
    "roles_df = df[\"DevType\"].copy()\n",
    "roles_df.sum(axis=0)"
   ]
  },
  {
   "cell_type": "code",
   "execution_count": 7,
   "id": "fca9b69a-cd32-446e-a72c-31d67fb7b155",
   "metadata": {},
   "outputs": [],
   "source": [
    "# Resample roles\n",
    "samples_per_class = 1200\n",
    "resampled_roles = []\n",
    "\n",
    "for role_col in roles_df.columns:\n",
    "    sub_df = roles_df.loc[roles_df[role_col] == 1].copy()\n",
    "    \n",
    "    if len(sub_df) < samples_per_class:\n",
    "        # Upsample\n",
    "        sub_df = sub_df.sample(samples_per_class, replace=True, random_state=0)\n",
    "    else:\n",
    "        # Downsample\n",
    "        sub_df = sub_df.sample(samples_per_class, random_state=0) \n",
    "    \n",
    "    resampled_roles.append(sub_df)"
   ]
  },
  {
   "cell_type": "code",
   "execution_count": 8,
   "id": "5243ca57-c4c6-4e07-b7ee-e8e4ad5052a1",
   "metadata": {},
   "outputs": [],
   "source": [
    "# Construct dfs\n",
    "roles_df  = pd.concat(resampled_roles)\n",
    "df = df.loc[roles_df.index].copy()"
   ]
  },
  {
   "cell_type": "code",
   "execution_count": 9,
   "id": "ce6f6e9d-8322-451b-9f13-cdc3281c0a2b",
   "metadata": {},
   "outputs": [
    {
     "data": {
      "text/plain": "Academic researcher                              2280\nData or business analyst                         1965\nData scientist or machine learning specialist    2576\nDatabase administrator                           1765\nDevOps specialist                                2170\nDeveloper, QA or test                            1514\nDeveloper, back-end                              5710\nDeveloper, desktop or enterprise applications    2690\nDeveloper, embedded applications or devices      1773\nDeveloper, front-end                             2614\nDeveloper, full-stack                            5602\nDeveloper, game or graphics                      1441\nDeveloper, mobile                                2155\nEngineer, data                                   2046\nScientist                                        1910\nSystem administrator                             2110\ndtype: int64"
     },
     "execution_count": 9,
     "metadata": {},
     "output_type": "execute_result"
    }
   ],
   "source": [
    "roles_df.sum(axis=0)"
   ]
  },
  {
   "cell_type": "markdown",
   "id": "cf5833db-2a42-4ee4-bc1b-343a45235f7e",
   "metadata": {
    "tags": []
   },
   "source": [
    "### Split"
   ]
  },
  {
   "cell_type": "code",
   "execution_count": 10,
   "id": "6d17cc20-d76b-4d30-84c1-62aad2ad3af2",
   "metadata": {},
   "outputs": [
    {
     "name": "stderr",
     "output_type": "stream",
     "text": [
      "/var/folders/5f/pff47ncd2ql85c2cxp98vpk00000gn/T/ipykernel_7543/1718254070.py:1: PerformanceWarning: dropping on a non-lexsorted multi-index without a level parameter may impact performance.\n",
      "  X_train, X_test, Y_train, Y_test = train_test_split(df.drop(\"DevType\", axis=1),\n"
     ]
    }
   ],
   "source": [
    "X_train, X_test, Y_train, Y_test = train_test_split(df.drop(\"DevType\", axis=1), \n",
    "                                                    df[\"DevType\"], \n",
    "                                                    random_state=0)"
   ]
  },
  {
   "cell_type": "markdown",
   "id": "05fc6bcc-a6dc-48bb-97e4-2b2b9566a1df",
   "metadata": {},
   "source": [
    "____________"
   ]
  },
  {
   "cell_type": "markdown",
   "id": "3f31fd6c-f625-4d5d-851c-8e6fed42bfe5",
   "metadata": {
    "tags": []
   },
   "source": [
    "# Train models"
   ]
  },
  {
   "cell_type": "markdown",
   "id": "cfc7c2b7-5dbc-4c78-a51b-a79b83e522fe",
   "metadata": {
    "tags": []
   },
   "source": [
    "### Initialize MLflow"
   ]
  },
  {
   "cell_type": "code",
   "execution_count": 12,
   "id": "d2db7a05-fbdf-404c-af01-d50cd3adba45",
   "metadata": {},
   "outputs": [],
   "source": [
    "# Initialize client and experiment\n",
    "mlflow.set_tracking_uri(MLFLOW_TRACKING_URI)\n",
    "client = MlflowClient()\n",
    "mlflow.get_experiment_by_name(MLFLOW_EXPERIMENT_NAME)\n",
    "exp = client.get_experiment_by_name(MLFLOW_EXPERIMENT_NAME)"
   ]
  },
  {
   "cell_type": "markdown",
   "id": "f0fc2b64-c68e-460b-bfdf-8f70606ccff4",
   "metadata": {
    "tags": []
   },
   "source": [
    "### 1. Logistic regression"
   ]
  },
  {
   "cell_type": "code",
   "execution_count": 13,
   "id": "ce7f1723-a750-4924-892e-1c8422169044",
   "metadata": {},
   "outputs": [],
   "source": [
    "clf = make_pipeline(StandardScaler(),\n",
    "                    MultiOutputClassifier(LogisticRegression()))\n",
    "\n",
    "clf.fit(X_train.values, Y_train.values)\n",
    "predictions =  pd.DataFrame(clf.predict(X_train.values),\n",
    "                            columns=Y_train.columns)"
   ]
  },
  {
   "cell_type": "code",
   "execution_count": 14,
   "id": "3e791860-6e49-44ec-83b5-3f44bfdb6dfb",
   "metadata": {},
   "outputs": [],
   "source": [
    "# Evaluate on training set\n",
    "predictions =  pd.DataFrame(clf.predict(X_train.values),\n",
    "                            columns=Y_train.columns)\n",
    "train_scores = {score.__name__: calculate_quality(Y_train, predictions, score) \n",
    "                for score in [accuracy_score, precision_score, recall_score, f1_score]}\n",
    "train_scores = pd.concat(train_scores,axis=1)"
   ]
  },
  {
   "cell_type": "code",
   "execution_count": 15,
   "id": "aaa4c49e-1a77-4eec-8677-5cee37aae884",
   "metadata": {},
   "outputs": [],
   "source": [
    "# Evaluate on test set\n",
    "predictions =  pd.DataFrame(clf.predict(X_test.values), columns=Y_test.columns)\n",
    "test_scores = {score.__name__: calculate_quality(Y_test, predictions, score) \n",
    "                for score in [accuracy_score, precision_score, recall_score, f1_score]}\n",
    "test_scores = pd.concat(test_scores,axis=1)\n",
    "mean_test_scores = test_scores.mean()"
   ]
  },
  {
   "cell_type": "code",
   "execution_count": 16,
   "id": "f3ab03f9-2547-4622-b7d3-b15a2ea9b3b7",
   "metadata": {},
   "outputs": [
    {
     "name": "stdout",
     "output_type": "stream",
     "text": [
      "accuracy_score     88.940625\n",
      "precision_score    62.424375\n",
      "recall_score       29.890000\n",
      "f1_score           38.615000\n",
      "dtype: float64\n"
     ]
    },
    {
     "data": {
      "text/plain": "                                               accuracy_score  \\\nAcademic researcher                                     90.02   \nData or business analyst                                91.12   \nData scientist or machine learning specialist           89.96   \nDatabase administrator                                  90.90   \nDevOps specialist                                       90.21   \nDeveloper, QA or test                                   91.71   \nDeveloper, back-end                                     74.40   \nDeveloper, desktop or enterprise applications           87.52   \nDeveloper, embedded applications or devices             92.65   \nDeveloper, front-end                                    88.40   \nDeveloper, full-stack                                   78.50   \nDeveloper, game or graphics                             94.81   \nDeveloper, mobile                                       93.08   \nEngineer, data                                          90.25   \nScientist                                               90.12   \nSystem administrator                                    89.40   \n\n                                               precision_score  recall_score  \\\nAcademic researcher                                      64.42         30.94   \nData or business analyst                                 65.99         26.58   \nData scientist or machine learning specialist            67.58         49.23   \nDatabase administrator                                   56.10          5.20   \nDevOps specialist                                        65.38         25.47   \nDeveloper, QA or test                                    28.57          0.51   \nDeveloper, back-end                                      62.64         35.72   \nDeveloper, desktop or enterprise applications            61.58         18.20   \nDeveloper, embedded applications or devices              64.79         33.17   \nDeveloper, front-end                                     67.91         36.76   \nDeveloper, full-stack                                    65.59         55.08   \nDeveloper, game or graphics                              76.82         46.05   \nDeveloper, mobile                                        74.75         57.12   \nEngineer, data                                           61.18         18.53   \nScientist                                                54.75         24.44   \nSystem administrator                                     60.74         15.24   \n\n                                               f1_score  \nAcademic researcher                               41.80  \nData or business analyst                          37.90  \nData scientist or machine learning specialist     56.96  \nDatabase administrator                             9.52  \nDevOps specialist                                 36.66  \nDeveloper, QA or test                              1.00  \nDeveloper, back-end                               45.50  \nDeveloper, desktop or enterprise applications     28.09  \nDeveloper, embedded applications or devices       43.88  \nDeveloper, front-end                              47.70  \nDeveloper, full-stack                             59.88  \nDeveloper, game or graphics                       57.58  \nDeveloper, mobile                                 64.76  \nEngineer, data                                    28.44  \nScientist                                         33.80  \nSystem administrator                              24.37  ",
      "text/html": "<div>\n<style scoped>\n    .dataframe tbody tr th:only-of-type {\n        vertical-align: middle;\n    }\n\n    .dataframe tbody tr th {\n        vertical-align: top;\n    }\n\n    .dataframe thead th {\n        text-align: right;\n    }\n</style>\n<table border=\"1\" class=\"dataframe\">\n  <thead>\n    <tr style=\"text-align: right;\">\n      <th></th>\n      <th>accuracy_score</th>\n      <th>precision_score</th>\n      <th>recall_score</th>\n      <th>f1_score</th>\n    </tr>\n  </thead>\n  <tbody>\n    <tr>\n      <th>Academic researcher</th>\n      <td>90.02</td>\n      <td>64.42</td>\n      <td>30.94</td>\n      <td>41.80</td>\n    </tr>\n    <tr>\n      <th>Data or business analyst</th>\n      <td>91.12</td>\n      <td>65.99</td>\n      <td>26.58</td>\n      <td>37.90</td>\n    </tr>\n    <tr>\n      <th>Data scientist or machine learning specialist</th>\n      <td>89.96</td>\n      <td>67.58</td>\n      <td>49.23</td>\n      <td>56.96</td>\n    </tr>\n    <tr>\n      <th>Database administrator</th>\n      <td>90.90</td>\n      <td>56.10</td>\n      <td>5.20</td>\n      <td>9.52</td>\n    </tr>\n    <tr>\n      <th>DevOps specialist</th>\n      <td>90.21</td>\n      <td>65.38</td>\n      <td>25.47</td>\n      <td>36.66</td>\n    </tr>\n    <tr>\n      <th>Developer, QA or test</th>\n      <td>91.71</td>\n      <td>28.57</td>\n      <td>0.51</td>\n      <td>1.00</td>\n    </tr>\n    <tr>\n      <th>Developer, back-end</th>\n      <td>74.40</td>\n      <td>62.64</td>\n      <td>35.72</td>\n      <td>45.50</td>\n    </tr>\n    <tr>\n      <th>Developer, desktop or enterprise applications</th>\n      <td>87.52</td>\n      <td>61.58</td>\n      <td>18.20</td>\n      <td>28.09</td>\n    </tr>\n    <tr>\n      <th>Developer, embedded applications or devices</th>\n      <td>92.65</td>\n      <td>64.79</td>\n      <td>33.17</td>\n      <td>43.88</td>\n    </tr>\n    <tr>\n      <th>Developer, front-end</th>\n      <td>88.40</td>\n      <td>67.91</td>\n      <td>36.76</td>\n      <td>47.70</td>\n    </tr>\n    <tr>\n      <th>Developer, full-stack</th>\n      <td>78.50</td>\n      <td>65.59</td>\n      <td>55.08</td>\n      <td>59.88</td>\n    </tr>\n    <tr>\n      <th>Developer, game or graphics</th>\n      <td>94.81</td>\n      <td>76.82</td>\n      <td>46.05</td>\n      <td>57.58</td>\n    </tr>\n    <tr>\n      <th>Developer, mobile</th>\n      <td>93.08</td>\n      <td>74.75</td>\n      <td>57.12</td>\n      <td>64.76</td>\n    </tr>\n    <tr>\n      <th>Engineer, data</th>\n      <td>90.25</td>\n      <td>61.18</td>\n      <td>18.53</td>\n      <td>28.44</td>\n    </tr>\n    <tr>\n      <th>Scientist</th>\n      <td>90.12</td>\n      <td>54.75</td>\n      <td>24.44</td>\n      <td>33.80</td>\n    </tr>\n    <tr>\n      <th>System administrator</th>\n      <td>89.40</td>\n      <td>60.74</td>\n      <td>15.24</td>\n      <td>24.37</td>\n    </tr>\n  </tbody>\n</table>\n</div>"
     },
     "execution_count": 16,
     "metadata": {},
     "output_type": "execute_result"
    }
   ],
   "source": [
    "print(mean_test_scores)\n",
    "test_scores"
   ]
  },
  {
   "cell_type": "markdown",
   "id": "77fda7cf-f4be-4f31-810f-cd25d88303d9",
   "metadata": {},
   "source": [
    "## Log run"
   ]
  },
  {
   "cell_type": "markdown",
   "source": [
    "### 1. Prepare"
   ],
   "metadata": {
    "collapsed": false,
    "pycharm": {
     "name": "#%% md\n"
    }
   }
  },
  {
   "cell_type": "code",
   "execution_count": 17,
   "id": "7907e71a-6555-4b16-aafe-e7f616a02afe",
   "metadata": {
    "tags": []
   },
   "outputs": [],
   "source": [
    "# Data details\n",
    "data_details = {\"data_path\": DF_PATH,\n",
    "                \"training_indices\": X_train.index.tolist(),\n",
    "                \"test_indices\":     X_test.index.tolist(), \n",
    "                \"features_names\":   X_train.columns.droplevel(0).tolist(),\n",
    "                \"targets_names\":    Y_train.columns.tolist()}\n",
    "\n",
    "with open(os.path.join(LOG_PATH, LOG_DATA_PKL), \"wb\") as output_file:\n",
    "    pickle.dump(data_details, output_file)"
   ]
  },
  {
   "cell_type": "code",
   "execution_count": 18,
   "id": "c78902e6-eb16-41fd-afe5-7d29f51741bf",
   "metadata": {},
   "outputs": [],
   "source": [
    "# Model\n",
    "model = {\"model_description\": \"Baseline model: Logistic Regression \",\n",
    "         \"model_details\": str(clf),\n",
    "         \"model_object\": clf} \n",
    "\n",
    "with open(os.path.join(LOG_PATH, LOG_MODEL_PKL), \"wb\") as output_file:\n",
    "    pickle.dump(model, output_file)"
   ]
  },
  {
   "cell_type": "code",
   "execution_count": 19,
   "id": "504e7af8-dd5a-4aee-bf80-56748e0a6faa",
   "metadata": {},
   "outputs": [],
   "source": [
    "# Performance details\n",
    "classes_metrics = {\"train_scores\": train_scores, \n",
    "                   \"test_scores\":  test_scores}\n",
    "\n",
    "with open(os.path.join(LOG_PATH, LOG_METRICS_PKL), \"wb\") as output_file:\n",
    "    pickle.dump(classes_metrics, output_file)"
   ]
  },
  {
   "cell_type": "markdown",
   "source": [
    "### 2. Log"
   ],
   "metadata": {
    "collapsed": false
   }
  },
  {
   "cell_type": "code",
   "execution_count": 20,
   "id": "d3a2b1c7-30fc-42cf-a952-29abfa1ac0b6",
   "metadata": {},
   "outputs": [],
   "source": [
    "# Start a new run and track \n",
    "with mlflow.start_run(experiment_id=exp.experiment_id, run_name=model[\"model_description\"]):\n",
    "    # Log pickles \n",
    "    mlflow.log_artifacts(LOG_PATH)\n",
    "    \n",
    "    # Track metrics \n",
    "    for metric, score in mean_test_scores.items():\n",
    "        mlflow.log_metric(metric, score) \n",
    "    "
   ]
  },
  {
   "cell_type": "code",
   "execution_count": null,
   "id": "de382c91-f301-4aa7-81f8-9ca6bc00491a",
   "metadata": {},
   "outputs": [],
   "source": []
  }
 ],
 "metadata": {
  "kernelspec": {
   "display_name": "Python 3 (ipykernel)",
   "language": "python",
   "name": "python3"
  },
  "language_info": {
   "codemirror_mode": {
    "name": "ipython",
    "version": 3
   },
   "file_extension": ".py",
   "mimetype": "text/x-python",
   "name": "python",
   "nbconvert_exporter": "python",
   "pygments_lexer": "ipython3",
   "version": "3.8.8"
  }
 },
 "nbformat": 4,
 "nbformat_minor": 5
}