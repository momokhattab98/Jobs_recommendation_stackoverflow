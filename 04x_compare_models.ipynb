{
 "cells": [
  {
   "cell_type": "code",
   "execution_count": 1,
   "metadata": {
    "collapsed": true
   },
   "outputs": [],
   "source": [
    "MLFLOW_TRACKING_URI = '../models/mlruns'\n",
    "MLFLOW_EXPERIMENT_NAME = \"skills_jobs_stackoverflow\""
   ]
  },
  {
   "cell_type": "code",
   "execution_count": 2,
   "outputs": [],
   "source": [
    "import mlflow\n",
    "from mlflow.tracking import MlflowClient\n",
    "\n",
    "import pandas as pd"
   ],
   "metadata": {
    "collapsed": false,
    "pycharm": {
     "name": "#%%\n"
    }
   }
  },
  {
   "cell_type": "code",
   "execution_count": 3,
   "outputs": [],
   "source": [
    "# Initialize client\n",
    "mlflow.set_tracking_uri(MLFLOW_TRACKING_URI)\n",
    "client = MlflowClient()"
   ],
   "metadata": {
    "collapsed": false,
    "pycharm": {
     "name": "#%%\n"
    }
   }
  },
  {
   "cell_type": "code",
   "execution_count": 4,
   "outputs": [
    {
     "data": {
      "text/plain": "<Experiment: artifact_location='../models/mlruns/0', experiment_id='0', lifecycle_stage='active', name='skills_jobs_stackoverflow', tags={}>"
     },
     "execution_count": 4,
     "metadata": {},
     "output_type": "execute_result"
    }
   ],
   "source": [
    "# Get experiment\n",
    "experiment = client.get_experiment_by_name(MLFLOW_EXPERIMENT_NAME)\n",
    "experiment"
   ],
   "metadata": {
    "collapsed": false,
    "pycharm": {
     "name": "#%%\n"
    }
   }
  },
  {
   "cell_type": "code",
   "execution_count": 8,
   "outputs": [
    {
     "data": {
      "text/plain": "                             run_id experiment_id    status  \\\n0  f103baf6559d48fd906b79c9a27a2f95             0  FINISHED   \n1  f6c5173584a74c8f8ccf62b353d08f42             0  FINISHED   \n2  a107782f5e814648af1d609b046aa929             0  FINISHED   \n\n                                        artifact_uri  \\\n0  ../models/mlruns/0/f103baf6559d48fd906b79c9a27...   \n1  ../models/mlruns/0/f6c5173584a74c8f8ccf62b353d...   \n2  ../models/mlruns/0/a107782f5e814648af1d609b046...   \n\n                        start_time                         end_time  \\\n0 2022-05-07 12:31:23.781000+00:00 2022-05-07 12:31:25.565000+00:00   \n1 2022-05-07 12:24:35.523000+00:00 2022-05-07 12:24:35.533000+00:00   \n2 2022-05-07 12:21:41.221000+00:00 2022-05-07 12:21:41.481000+00:00   \n\n   metrics.recall_score  metrics.f1_score  metrics.accuracy_score  \\\n0              50.11125         64.450625               92.645625   \n1              29.89000         38.615000               88.940625   \n2              50.11125         64.450625               92.645625   \n\n   metrics.precision_score tags.mlflow.source.type  \\\n0                94.251250                   LOCAL   \n1                62.424375                   LOCAL   \n2                94.251250                   LOCAL   \n\n                              tags.mlflow.runName tags.mlflow.user  \\\n0  Random Forest: with PCA + Hyperparamter tuning      deenagergis   \n1            Baseline model: Logistic Regression       deenagergis   \n2                 Random Forest: with PCA - Basic      deenagergis   \n\n                             tags.mlflow.source.name  \n0  /Users/deenagergis/.conda/envs/e2e_workshop/li...  \n1  /Users/deenagergis/.conda/envs/e2e_workshop/li...  \n2  /Users/deenagergis/.conda/envs/e2e_workshop/li...  ",
      "text/html": "<div>\n<style scoped>\n    .dataframe tbody tr th:only-of-type {\n        vertical-align: middle;\n    }\n\n    .dataframe tbody tr th {\n        vertical-align: top;\n    }\n\n    .dataframe thead th {\n        text-align: right;\n    }\n</style>\n<table border=\"1\" class=\"dataframe\">\n  <thead>\n    <tr style=\"text-align: right;\">\n      <th></th>\n      <th>run_id</th>\n      <th>experiment_id</th>\n      <th>status</th>\n      <th>artifact_uri</th>\n      <th>start_time</th>\n      <th>end_time</th>\n      <th>metrics.recall_score</th>\n      <th>metrics.f1_score</th>\n      <th>metrics.accuracy_score</th>\n      <th>metrics.precision_score</th>\n      <th>tags.mlflow.source.type</th>\n      <th>tags.mlflow.runName</th>\n      <th>tags.mlflow.user</th>\n      <th>tags.mlflow.source.name</th>\n    </tr>\n  </thead>\n  <tbody>\n    <tr>\n      <th>0</th>\n      <td>f103baf6559d48fd906b79c9a27a2f95</td>\n      <td>0</td>\n      <td>FINISHED</td>\n      <td>../models/mlruns/0/f103baf6559d48fd906b79c9a27...</td>\n      <td>2022-05-07 12:31:23.781000+00:00</td>\n      <td>2022-05-07 12:31:25.565000+00:00</td>\n      <td>50.11125</td>\n      <td>64.450625</td>\n      <td>92.645625</td>\n      <td>94.251250</td>\n      <td>LOCAL</td>\n      <td>Random Forest: with PCA + Hyperparamter tuning</td>\n      <td>deenagergis</td>\n      <td>/Users/deenagergis/.conda/envs/e2e_workshop/li...</td>\n    </tr>\n    <tr>\n      <th>1</th>\n      <td>f6c5173584a74c8f8ccf62b353d08f42</td>\n      <td>0</td>\n      <td>FINISHED</td>\n      <td>../models/mlruns/0/f6c5173584a74c8f8ccf62b353d...</td>\n      <td>2022-05-07 12:24:35.523000+00:00</td>\n      <td>2022-05-07 12:24:35.533000+00:00</td>\n      <td>29.89000</td>\n      <td>38.615000</td>\n      <td>88.940625</td>\n      <td>62.424375</td>\n      <td>LOCAL</td>\n      <td>Baseline model: Logistic Regression</td>\n      <td>deenagergis</td>\n      <td>/Users/deenagergis/.conda/envs/e2e_workshop/li...</td>\n    </tr>\n    <tr>\n      <th>2</th>\n      <td>a107782f5e814648af1d609b046aa929</td>\n      <td>0</td>\n      <td>FINISHED</td>\n      <td>../models/mlruns/0/a107782f5e814648af1d609b046...</td>\n      <td>2022-05-07 12:21:41.221000+00:00</td>\n      <td>2022-05-07 12:21:41.481000+00:00</td>\n      <td>50.11125</td>\n      <td>64.450625</td>\n      <td>92.645625</td>\n      <td>94.251250</td>\n      <td>LOCAL</td>\n      <td>Random Forest: with PCA - Basic</td>\n      <td>deenagergis</td>\n      <td>/Users/deenagergis/.conda/envs/e2e_workshop/li...</td>\n    </tr>\n  </tbody>\n</table>\n</div>"
     },
     "execution_count": 8,
     "metadata": {},
     "output_type": "execute_result"
    }
   ],
   "source": [
    "# Get all runs\n",
    "runs = mlflow.search_runs([experiment.experiment_id])\n",
    "runs"
   ],
   "metadata": {
    "collapsed": false,
    "pycharm": {
     "name": "#%%\n"
    }
   }
  },
  {
   "cell_type": "code",
   "execution_count": null,
   "outputs": [],
   "source": [],
   "metadata": {
    "collapsed": false,
    "pycharm": {
     "name": "#%%\n"
    }
   }
  }
 ],
 "metadata": {
  "kernelspec": {
   "display_name": "Python 3",
   "language": "python",
   "name": "python3"
  },
  "language_info": {
   "codemirror_mode": {
    "name": "ipython",
    "version": 2
   },
   "file_extension": ".py",
   "mimetype": "text/x-python",
   "name": "python",
   "nbconvert_exporter": "python",
   "pygments_lexer": "ipython2",
   "version": "2.7.6"
  }
 },
 "nbformat": 4,
 "nbformat_minor": 0
}