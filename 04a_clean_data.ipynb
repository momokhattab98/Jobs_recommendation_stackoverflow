{
 "cells": [
  {
   "cell_type": "code",
   "execution_count": null,
   "id": "7783f6e4-44c9-4789-b59d-ff8de5535a89",
   "metadata": {},
   "outputs": [],
   "source": [
    "DF_PATH       = \"../data/processed/1_preprocessed_df.pkl\"\n",
    "FEATURES_PATH = \"../data/processed/features_skills_clusters.pkl\"\n",
    "\n",
    "ROLE_COLS      = ['DevType']\n",
    "TECH_COLS      = ['LanguageHaveWorkedWith',\n",
    "                  'DatabaseHaveWorkedWith',\n",
    "                  'PlatformHaveWorkedWith',\n",
    "                  'WebframeHaveWorkedWith',\n",
    "                  'MiscTechHaveWorkedWith',\n",
    "                  'ToolsTechHaveWorkedWith',\n",
    "                  'NEWCollabToolsHaveWorkedWith']\n",
    "\n",
    "EXPORT_PATH    = \"../data/processed/2_cleaned_data.pkl\""
   ]
  },
  {
   "cell_type": "code",
   "execution_count": null,
   "id": "0c450c57-e085-4a4a-9fa4-efe9b60ed798",
   "metadata": {
    "tags": []
   },
   "outputs": [],
   "source": [
    "# Load packages\n",
    "import pandas as pd \n",
    "import numpy as np\n",
    "import pickle\n",
    "\n",
    "import matplotlib.pyplot as plt\n",
    "from sklearn.preprocessing import MultiLabelBinarizer"
   ]
  },
  {
   "cell_type": "markdown",
   "id": "6e58f82f-e413-4849-b676-2aaf8b226901",
   "metadata": {
    "tags": []
   },
   "source": [
    "### Read data and preprocess"
   ]
  },
  {
   "cell_type": "code",
   "execution_count": null,
   "id": "7215ffec-8083-43fc-b194-18cbc62c4c50",
   "metadata": {},
   "outputs": [],
   "source": [
    "# Read Data \n",
    "processed_df = pd.read_pickle(DF_PATH)\n",
    "features_df = pd.read_pickle(FEATURES_PATH)"
   ]
  },
  {
   "cell_type": "code",
   "execution_count": null,
   "outputs": [],
   "source": [
    "# One hot encode\n",
    "encoded_dfs = {}\n",
    "for col in ROLE_COLS + TECH_COLS:\n",
    "    binarizer = MultiLabelBinarizer()\n",
    "    encoded_df = pd.DataFrame(binarizer.fit_transform(processed_df[col]),\n",
    "                               columns=binarizer.classes_,\n",
    "                               index=processed_df[col].index)\n",
    "    encoded_dfs[col] = encoded_df\n",
    "\n",
    "# Merge 1-hot encoded\n",
    "encoded_dfs = pd.concat(encoded_dfs, axis=1)"
   ],
   "metadata": {
    "collapsed": false,
    "pycharm": {
     "name": "#%%\n"
    }
   }
  },
  {
   "cell_type": "code",
   "execution_count": null,
   "outputs": [],
   "source": [
    "encoded_dfs"
   ],
   "metadata": {
    "collapsed": false,
    "pycharm": {
     "name": "#%%\n"
    }
   }
  },
  {
   "cell_type": "markdown",
   "id": "6992902e-d5c1-4f5f-9db0-175a57df9724",
   "metadata": {
    "tags": []
   },
   "source": [
    "### Quick sanity check"
   ]
  },
  {
   "cell_type": "code",
   "execution_count": null,
   "id": "785c6ba3-04f5-4cc2-aeca-28831accd0ec",
   "metadata": {},
   "outputs": [],
   "source": [
    "# Select random int\n",
    "i = np.random.randint(processed_df.shape[0])\n",
    "\n",
    "# Print original values\n",
    "print(processed_df.iloc[i][ROLE_COLS].tolist())\n",
    "print(processed_df.iloc[i][TECH_COLS].tolist())\n",
    "print(\"----------------\")\n",
    "\n",
    "# Print processed\n",
    "print(encoded_dfs.iloc[i][encoded_dfs.iloc[i] == 1])\n",
    "print(\"----------------\")\n",
    "\n",
    "# Check clustering \n",
    "print(\"Clusters:\",features_df.iloc[i].sum())\n",
    "print(\"Skills:\",  encoded_dfs[TECH_COLS].iloc[i].sum())"
   ]
  },
  {
   "cell_type": "markdown",
   "id": "d9373492-a07c-43a6-9d93-3ef0d872a809",
   "metadata": {},
   "source": [
    "___________"
   ]
  },
  {
   "cell_type": "markdown",
   "id": "61efec99-218c-4df4-ad84-3337ff14465c",
   "metadata": {},
   "source": [
    "## Exclude Roles"
   ]
  },
  {
   "cell_type": "code",
   "execution_count": null,
   "outputs": [],
   "source": [
    "# Exclude roles\n",
    "EXCULDE_ROLES = [\n",
    "    'Other (please specify):',\n",
    "    'Student',\n",
    "    'Designer',\n",
    "    'Educator',\n",
    "    'Marketing or sales professional',\n",
    "    'Engineering manager',\n",
    "    'Senior Executive (C-Suite, VP, etc.)',\n",
    "    'Product manager',\n",
    "    'Engineer, site reliability']"
   ],
   "metadata": {
    "collapsed": false,
    "pycharm": {
     "name": "#%%\n"
    }
   }
  },
  {
   "cell_type": "code",
   "execution_count": null,
   "id": "4254f439-4d59-4131-9f12-fca9f939454e",
   "metadata": {},
   "outputs": [],
   "source": [
    "for role in EXCULDE_ROLES:\n",
    "    encoded_dfs = encoded_dfs.drop((\"DevType\", role), axis=1)"
   ]
  },
  {
   "cell_type": "code",
   "execution_count": null,
   "outputs": [],
   "source": [
    "# Check the total samples of roles\n",
    "original_role_sum = encoded_dfs[\"DevType\"].sum(axis=0)\n",
    "original_role_sum"
   ],
   "metadata": {
    "collapsed": false,
    "pycharm": {
     "name": "#%%\n"
    }
   }
  },
  {
   "cell_type": "markdown",
   "id": "12e7637c-61cd-4c68-a098-598cb81a41b5",
   "metadata": {},
   "source": [
    "___________"
   ]
  },
  {
   "cell_type": "markdown",
   "id": "f9c25dcd-ea9a-4178-9eb9-b90a11d101e8",
   "metadata": {
    "tags": []
   },
   "source": [
    "## Filter data"
   ]
  },
  {
   "cell_type": "code",
   "execution_count": null,
   "id": "a2e2d225-d7e3-4ad6-97c4-63d55486432b",
   "metadata": {},
   "outputs": [],
   "source": [
    "freq_roles = encoded_dfs[ROLE_COLS].sum(axis=1)\n",
    "plt.hist(freq_roles, freq_roles.max())\n",
    "plt.title('Number of Roles')\n",
    "plt.show()"
   ]
  },
  {
   "cell_type": "code",
   "execution_count": null,
   "id": "250473ad-1d55-47fd-9062-cb443048a995",
   "metadata": {},
   "outputs": [],
   "source": [
    "freq_tech = encoded_dfs[TECH_COLS].sum(axis=1)\n",
    "plt.hist(freq_tech, freq_tech.max())\n",
    "plt.title('Number of Skills')\n",
    "plt.show()"
   ]
  },
  {
   "cell_type": "code",
   "execution_count": null,
   "id": "cb868494-7573-4a63-b38a-b8bef67eb286",
   "metadata": {},
   "outputs": [],
   "source": [
    "# Filter frequencies \n",
    "ROLES_RANGE = [1,3]\n",
    "TECH_RANGE  = [3,30]"
   ]
  },
  {
   "cell_type": "code",
   "execution_count": null,
   "id": "15429d42-c60b-4474-93d1-4b071a8519b6",
   "metadata": {},
   "outputs": [],
   "source": [
    "# Create masks \n",
    "role_mask   = (freq_roles >= ROLES_RANGE[0]) & (freq_roles <= ROLES_RANGE[1])\n",
    "tech_mask   = (freq_tech >= TECH_RANGE[0])   & (freq_tech <= TECH_RANGE[1])\n",
    "filter_mask = role_mask & tech_mask"
   ]
  },
  {
   "cell_type": "code",
   "execution_count": null,
   "id": "5be14ed9-2f1a-4557-915f-800bf19a76e1",
   "metadata": {},
   "outputs": [],
   "source": [
    "features_df = features_df.loc[filter_mask].copy()\n",
    "encoded_dfs = encoded_dfs.loc[filter_mask].copy()"
   ]
  },
  {
   "cell_type": "code",
   "execution_count": null,
   "outputs": [],
   "source": [
    "# Check the total samples of roles\n",
    "cleaned_role_sum = encoded_dfs[\"DevType\"].sum(axis=0)\n",
    "cleaned_role_sum"
   ],
   "metadata": {
    "collapsed": false,
    "pycharm": {
     "name": "#%%\n"
    }
   }
  },
  {
   "cell_type": "markdown",
   "id": "d439fcc6-1c12-4770-9b30-b5c9f337c714",
   "metadata": {},
   "source": [
    "__________"
   ]
  },
  {
   "cell_type": "markdown",
   "id": "6719304e-a0da-4e34-8871-0a9b0f1be027",
   "metadata": {},
   "source": [
    "### Merge & Export data"
   ]
  },
  {
   "cell_type": "code",
   "execution_count": null,
   "id": "958681f7-860b-4ee1-a850-e20b77ebf3d1",
   "metadata": {},
   "outputs": [],
   "source": [
    "# Add second level indexing \n",
    "features_df.columns = pd.MultiIndex.from_product([['skills_clusters'], \n",
    "                                                  features_df.columns])"
   ]
  },
  {
   "cell_type": "code",
   "execution_count": null,
   "id": "0726524a-f5cf-44f3-bc0b-54de09384d61",
   "metadata": {},
   "outputs": [],
   "source": [
    "# Concatenate\n",
    "df = pd.concat([encoded_dfs, features_df], axis=1)"
   ]
  },
  {
   "cell_type": "code",
   "execution_count": null,
   "id": "9dcd9878-4960-4be6-a857-19b6abba3182",
   "metadata": {},
   "outputs": [],
   "source": [
    "# Export \n",
    "df.to_pickle(EXPORT_PATH)"
   ]
  },
  {
   "cell_type": "code",
   "execution_count": null,
   "id": "d550524b-c462-4bd5-8fbc-a4c670685f77",
   "metadata": {},
   "outputs": [],
   "source": []
  }
 ],
 "metadata": {
  "kernelspec": {
   "display_name": "Python 3 (ipykernel)",
   "language": "python",
   "name": "python3"
  },
  "language_info": {
   "codemirror_mode": {
    "name": "ipython",
    "version": 3
   },
   "file_extension": ".py",
   "mimetype": "text/x-python",
   "name": "python",
   "nbconvert_exporter": "python",
   "pygments_lexer": "ipython3",
   "version": "3.8.8"
  }
 },
 "nbformat": 4,
 "nbformat_minor": 5
}