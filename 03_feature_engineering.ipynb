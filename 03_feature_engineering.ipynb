{
 "cells": [
  {
   "cell_type": "code",
   "execution_count": null,
   "id": "61d1d02c-1f30-4f33-ac3a-1c670af90419",
   "metadata": {},
   "outputs": [],
   "source": [
    "DF_PATH = \"../data/processed/1_preprocessed_df.pkl\"\n",
    "\n",
    "NA_STRING = 'Not Specified'\n",
    "TRANSPARENT_STRING = 'rgba(0, 0, 0, 0)'\n",
    "\n",
    "ROLE_COLS      = ['DevType']\n",
    "TECH_COLS      = ['LanguageHaveWorkedWith',\n",
    "                  'DatabaseHaveWorkedWith',\n",
    "                  'WebframeHaveWorkedWith',\n",
    "                  'MiscTechHaveWorkedWith',\n",
    "                  'ToolsTechHaveWorkedWith']\n",
    "\n",
    "EXPORT_FEATURES_DIR = \"../data/processed/\""
   ]
  },
  {
   "cell_type": "code",
   "execution_count": null,
   "id": "67ae321f-312d-4732-9158-890d1a85061d",
   "metadata": {},
   "outputs": [],
   "source": [
    "# Load packages\n",
    "import pandas as pd \n",
    "import numpy as np\n",
    "import logging\n",
    "import pickle\n",
    "import os\n",
    "import yaml\n",
    "\n",
    "import plotly \n",
    "import plotly.graph_objects as go\n",
    "import plotly.express as px\n",
    "\n",
    "import matplotlib.cm as cm\n",
    "import matplotlib.pyplot as plt\n",
    "\n",
    "from sklearn.preprocessing import StandardScaler\n",
    "from sklearn.preprocessing import MultiLabelBinarizer\n",
    "from sklearn.manifold import TSNE\n",
    "\n",
    "from sklearn.pipeline import make_pipeline\n",
    "from sklearn.cluster import AgglomerativeClustering\n",
    "from sklearn.model_selection import train_test_split\n",
    "\n",
    "from sklearn.multioutput import MultiOutputClassifier\n",
    "from sklearn.linear_model import LogisticRegression\n",
    "\n",
    "from sklearn.metrics import f1_score\n",
    "from sklearn.metrics import classification_report\n",
    "from sklearn.metrics import multilabel_confusion_matrix\n",
    "from sklearn.metrics import silhouette_score\n",
    "\n",
    "pd.options.display.max_rows = 1000"
   ]
  },
  {
   "cell_type": "markdown",
   "id": "5f31cb93-3b7b-4da7-ae7b-b6a1ae6a294b",
   "metadata": {},
   "source": [
    "## Read data and preprocess data "
   ]
  },
  {
   "cell_type": "code",
   "execution_count": null,
   "id": "b351b163-67b3-4264-912f-8da2df43638f",
   "metadata": {
    "tags": []
   },
   "outputs": [],
   "source": [
    "# Read Data \n",
    "df = pd.read_pickle(DF_PATH)"
   ]
  },
  {
   "cell_type": "code",
   "execution_count": null,
   "id": "e5162865-b0c6-4c59-baab-7c13fd980845",
   "metadata": {},
   "outputs": [],
   "source": [
    "# One hot encode \n",
    "encoded_dfs = {}\n",
    "for col in ROLE_COLS + TECH_COLS:\n",
    "    binarizer = MultiLabelBinarizer()\n",
    "    encoded_df = pd.DataFrame(binarizer.fit_transform(df[col]),\n",
    "                               columns=binarizer.classes_,\n",
    "                               index=df[col].index)\n",
    "    encoded_dfs[col] = encoded_df\n",
    "    \n",
    "# Merge 1-hot encoded \n",
    "ohe_df = pd.concat(encoded_dfs, axis=1)"
   ]
  },
  {
   "cell_type": "markdown",
   "id": "0e8b2780-ed1a-4b4e-ab1b-984850430090",
   "metadata": {},
   "source": [
    "_________________"
   ]
  },
  {
   "cell_type": "markdown",
   "id": "3d03762e-c0ed-4f97-ae5c-687fcc0dff8f",
   "metadata": {},
   "source": [
    "## Dimensionality reduction "
   ]
  },
  {
   "cell_type": "code",
   "execution_count": null,
   "id": "f3119e3b-34a4-4127-abe3-df67d7e83c1c",
   "metadata": {},
   "outputs": [],
   "source": [
    "# Prepare sub data frames \n",
    "skills_ohe = ohe_df.drop('DevType', axis=1).copy()\n",
    "std_skills = StandardScaler().fit_transform(skills_ohe)"
   ]
  },
  {
   "cell_type": "code",
   "execution_count": null,
   "id": "1775bfd9-5ecc-4b5f-b346-aa41b94894b7",
   "metadata": {},
   "outputs": [],
   "source": [
    "tsne_projection = TSNE(n_components=2, \n",
    "                       perplexity=3,\n",
    "                       learning_rate=0.01,\n",
    "                       init='pca', \n",
    "                       method='barnes_hut', \n",
    "                       n_jobs=2, \n",
    "                       n_iter=10**10,\n",
    "                       random_state=0).fit_transform(std_skills.T)\n",
    "\n",
    "tsne_projection = pd.DataFrame(tsne_projection, index=skills_ohe.columns)"
   ]
  },
  {
   "cell_type": "code",
   "execution_count": null,
   "id": "07935f93-87bc-49bc-9c02-a4a1254b0232",
   "metadata": {},
   "outputs": [],
   "source": [
    "tsne_projection.shape"
   ]
  },
  {
   "cell_type": "code",
   "execution_count": null,
   "id": "5782b9ac-4e56-42a1-a71d-cc36749e19c0",
   "metadata": {
    "tags": []
   },
   "outputs": [],
   "source": [
    "fig = px.scatter(x=tsne_projection[0], y=tsne_projection[1], text=tsne_projection.droplevel(0).index)\n",
    "fig.update_traces(textposition='top center')\n",
    "fig.update_layout(height=1000, width=1000, title_text='TSNE')\n",
    "fig.show()"
   ]
  },
  {
   "cell_type": "markdown",
   "id": "04ec439f-d046-469a-bcb1-cfa05b20ebcd",
   "metadata": {},
   "source": [
    "_________________"
   ]
  },
  {
   "cell_type": "markdown",
   "id": "7e40e03c-cbe2-4d14-8ae9-a1596576a29d",
   "metadata": {},
   "source": [
    "## Cluster "
   ]
  },
  {
   "cell_type": "code",
   "execution_count": null,
   "id": "c0ce3df1-9d0b-4543-b178-ea08c5cac883",
   "metadata": {},
   "outputs": [],
   "source": [
    "range_n_cluster = list(range(10,25))\n",
    "silhoutte_score = []\n",
    "best_cluster_model = None \n",
    "\n",
    "for n_clusters in range_n_cluster:\n",
    "    cluster_model  = AgglomerativeClustering(n_clusters=n_clusters, linkage='ward')\n",
    "    cluster_labels = cluster_model.fit_predict(tsne_projection)\n",
    "    \n",
    "    silhouette_avg = silhouette_score(tsne_projection, cluster_labels)\n",
    "    silhoutte_score += [silhouette_avg]\n",
    "    \n",
    "    if silhouette_avg >= np.max(silhoutte_score):\n",
    "        best_cluster_model = cluster_model"
   ]
  },
  {
   "cell_type": "code",
   "execution_count": null,
   "id": "93ef22d3-63fe-417f-a337-2da160aa55ab",
   "metadata": {},
   "outputs": [],
   "source": [
    "plt.plot(range_n_cluster, silhoutte_score)\n",
    "plt.axvline(best_cluster_model.n_clusters, color='black')"
   ]
  },
  {
   "cell_type": "code",
   "execution_count": null,
   "id": "63084e98-fcda-4f76-9ada-93fe9b954200",
   "metadata": {},
   "outputs": [],
   "source": [
    "cluster_labels = [\"skills_group_\" + str(label) \n",
    "                 for label in best_cluster_model.labels_]"
   ]
  },
  {
   "cell_type": "code",
   "execution_count": null,
   "id": "aa45d1ef-acd9-44ba-9a68-efeef5691fd5",
   "metadata": {},
   "outputs": [],
   "source": [
    "fig = px.scatter(x=tsne_projection[0], \n",
    "                 y=tsne_projection[1], \n",
    "                 text=tsne_projection.droplevel(0).index, \n",
    "                 color=cluster_labels)\n",
    "fig.update_traces(textposition='top center')\n",
    "fig.update_layout(height=800, width=800, title_text='Cluster')\n",
    "fig.show()"
   ]
  },
  {
   "cell_type": "code",
   "execution_count": null,
   "id": "992cf07e-b168-4c52-874c-877a2a09dc0c",
   "metadata": {},
   "outputs": [],
   "source": [
    "# How to better write this\n",
    "skills_clusters = tsne_projection.index.droplevel(0).to_series().groupby(cluster_labels).apply(list)"
   ]
  },
  {
   "cell_type": "code",
   "execution_count": null,
   "id": "d9bb40ea-b85f-47f2-b63a-38a5e88b07db",
   "metadata": {},
   "outputs": [],
   "source": [
    "for cluster, skills in skills_clusters.items():\n",
    "    print(cluster)\n",
    "    print(skills)"
   ]
  },
  {
   "cell_type": "markdown",
   "id": "ba12b51c-b34e-43ce-8555-017d24300c70",
   "metadata": {},
   "source": [
    "_________________"
   ]
  },
  {
   "cell_type": "markdown",
   "id": "4c58ac33-5c54-4f94-96b2-48691cdefc9f",
   "metadata": {},
   "source": [
    "## Create new features  "
   ]
  },
  {
   "cell_type": "code",
   "execution_count": null,
   "id": "06b5aeb2-afac-4745-8302-1562a0e2096f",
   "metadata": {},
   "outputs": [],
   "source": [
    "new_features = []\n",
    "\n",
    "for cluster, skills in skills_clusters.items():\n",
    "    cluster_sum = skills_ohe.droplevel(0, axis=1)[skills].sum(axis=1)\n",
    "    cluster_sum.name = cluster\n",
    "    new_features.append(cluster_sum)\n",
    "\n",
    "fe_clustered_skills = pd.concat(new_features, axis=1)"
   ]
  },
  {
   "cell_type": "code",
   "execution_count": null,
   "id": "52545f69-1694-49e9-9b2b-865e0370561a",
   "metadata": {},
   "outputs": [],
   "source": [
    "fe_clustered_skills"
   ]
  },
  {
   "cell_type": "markdown",
   "id": "9defc511-bcb2-4cef-86d0-9baea1998a28",
   "metadata": {},
   "source": [
    "_________________"
   ]
  },
  {
   "cell_type": "markdown",
   "id": "68b4ba4b-5d40-438a-834c-8d7e42aa18a1",
   "metadata": {},
   "source": [
    "## Illustration Model"
   ]
  },
  {
   "cell_type": "markdown",
   "id": "2396bc27-006a-4e2d-bcc8-a101145b6075",
   "metadata": {},
   "source": [
    "#### Create train / test matrices "
   ]
  },
  {
   "cell_type": "code",
   "execution_count": null,
   "id": "c3d9cac1-29a2-4307-a07a-21e3f7cf4fb0",
   "metadata": {},
   "outputs": [],
   "source": [
    "combined_features_df = pd.concat([fe_clustered_skills, \n",
    "                                  skills_ohe.droplevel(0,axis=1)], \n",
    "                                 axis=1)\n",
    "roles_df = ohe_df['DevType'].copy()"
   ]
  },
  {
   "cell_type": "code",
   "execution_count": null,
   "id": "50e600ae-912a-4d3f-9fb4-6d0e9fa61b28",
   "metadata": {},
   "outputs": [],
   "source": [
    "X_train, X_test, Y_train, Y_test = train_test_split(combined_features_df, roles_df, test_size=0.3, random_state=0)"
   ]
  },
  {
   "cell_type": "markdown",
   "id": "57a6b3c0-466e-4176-8a15-ecfe07935a3b",
   "metadata": {},
   "source": [
    "#### Compute samples weight to deal with classes imbalance "
   ]
  },
  {
   "cell_type": "code",
   "execution_count": null,
   "id": "0572d675-faa4-4de5-a1be-8d130316ee01",
   "metadata": {},
   "outputs": [],
   "source": [
    "# Assign class weight as an inverse of its frequency \n",
    "class_weights = (1 / roles_df.sum(axis=0))\n",
    "\n",
    "# Multiply class weights with the 1 hot encoded values and get the mean of each sample\n",
    "sample_weight = np.multiply(class_weights.values, Y_train.values).sum(axis=1)"
   ]
  },
  {
   "cell_type": "markdown",
   "id": "0ff01fb0-80a2-439c-8cef-4fc426a16f75",
   "metadata": {},
   "source": [
    "#### Compute samples weight to deal with classes imbalance "
   ]
  },
  {
   "cell_type": "code",
   "execution_count": null,
   "id": "889d5d13-f4da-45e7-916b-affd11b43911",
   "metadata": {},
   "outputs": [],
   "source": [
    "def f1_from_confusion_matrix(confusion_matrix):\n",
    "    return (confusion_matrix[1,1] / \n",
    "            (confusion_matrix[1,1] + \n",
    "             (0.5 * (confusion_matrix[0,1] + confusion_matrix[1,0]))\n",
    "            ))"
   ]
  },
  {
   "cell_type": "code",
   "execution_count": null,
   "id": "74dca562-8932-4cd1-8f75-76a7906a1056",
   "metadata": {},
   "outputs": [],
   "source": [
    "feature_sets = {'original': skills_ohe.droplevel(0,axis=1).columns.tolist(), \n",
    "                'clusters': fe_clustered_skills.columns.tolist()}"
   ]
  },
  {
   "cell_type": "code",
   "execution_count": null,
   "id": "0c8f1c7e-2d8e-4cd1-894b-c2c221a90db6",
   "metadata": {},
   "outputs": [],
   "source": [
    "results = {}\n",
    "\n",
    "for feature_set_name, feature_set in feature_sets.items():\n",
    "    # Create sub trainings\n",
    "    sub_train = X_train[feature_set].copy()\n",
    "    sub_test  = X_test[feature_set].copy()\n",
    "    \n",
    "    # Train classifier \n",
    "    clf = MultiOutputClassifier(LogisticRegression())\n",
    "    clf.fit(sub_train, Y_train, sample_weight=sample_weight)\n",
    "\n",
    "    # Calcaulte F1 for training data\n",
    "    multilabel_confusion_matricies = multilabel_confusion_matrix(Y_train, clf.predict(sub_train))\n",
    "    f1_train_scores = [f1_from_confusion_matrix(matrix) \n",
    "                       for matrix in multilabel_confusion_matricies]\n",
    "\n",
    "    # Calcaulte F1 for testing data\n",
    "    multilabel_confusion_matricies = multilabel_confusion_matrix(Y_test, clf.predict(sub_test))\n",
    "    f1_test_scores = [f1_from_confusion_matrix(matrix) \n",
    "                       for matrix in multilabel_confusion_matricies]\n",
    "\n",
    "    # Add to results\n",
    "    set_result = pd.DataFrame({\"train\": f1_train_scores, \"test\":f1_test_scores}, \n",
    "                              index=roles_df.columns.to_list())\n",
    "    results[feature_set_name] = set_result.sort_values('test')\n",
    "    \n",
    "    \n",
    "    # Print\n",
    "    print(\"Feature set: \" + feature_set_name)\n",
    "    print(\".. Mean train F1:\", np.mean(f1_train_scores))    \n",
    "    print(\".. Mean test F1:\", np.mean(f1_test_scores))\n",
    "    print()"
   ]
  },
  {
   "cell_type": "markdown",
   "id": "6233bf76-02f0-4b44-adc1-1900e7bb5e01",
   "metadata": {},
   "source": [
    "_________________"
   ]
  },
  {
   "cell_type": "markdown",
   "id": "9c427a4c-c2d8-418e-9fb2-875eb4c1ad83",
   "metadata": {},
   "source": [
    "## Export new features "
   ]
  },
  {
   "cell_type": "code",
   "execution_count": null,
   "id": "e1e521ad-73f4-496b-a391-6505f4ee242b",
   "metadata": {},
   "outputs": [],
   "source": [
    "features_path = os.path.join(EXPORT_FEATURES_DIR, \"features_skills_clusters.pkl\")\n",
    "fe_clustered_skills.to_pickle(features_path)"
   ]
  },
  {
   "cell_type": "code",
   "execution_count": null,
   "id": "d94e4c2d-6602-4291-ab1b-2272ceb3ebc5",
   "metadata": {},
   "outputs": [],
   "source": [
    "description_path = os.path.join(EXPORT_FEATURES_DIR, \"features_skills_clusters_description.yaml\")\n",
    "with open(description_path, 'w') as outfile:\n",
    "    yaml.dump(skills_clusters.to_dict(), outfile)"
   ]
  },
  {
   "cell_type": "code",
   "execution_count": null,
   "id": "b44ba9da-441d-46a1-a718-33ff07f4ba3d",
   "metadata": {},
   "outputs": [],
   "source": []
  }
 ],
 "metadata": {
  "kernelspec": {
   "display_name": "Python 3 (ipykernel)",
   "language": "python",
   "name": "python3"
  },
  "language_info": {
   "codemirror_mode": {
    "name": "ipython",
    "version": 3
   },
   "file_extension": ".py",
   "mimetype": "text/x-python",
   "name": "python",
   "nbconvert_exporter": "python",
   "pygments_lexer": "ipython3",
   "version": "3.8.8"
  }
 },
 "nbformat": 4,
 "nbformat_minor": 5
}