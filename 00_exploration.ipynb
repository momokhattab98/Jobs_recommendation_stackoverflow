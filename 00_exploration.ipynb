{
 "cells": [
  {
   "cell_type": "code",
   "execution_count": 2,
   "id": "47c7c894-1a88-4f34-80ca-464a1dd5756d",
   "metadata": {},
   "outputs": [],
   "source": [
    "DATA_PATH = '../data/raw/survey_results_public.csv'"
   ]
  },
  {
   "cell_type": "code",
   "execution_count": 3,
   "id": "68e56afa-50d9-466b-8732-9edf54ac7a3c",
   "metadata": {},
   "outputs": [],
   "source": [
    "import pandas as pd \n",
    "import numpy as np\n",
    "pd.options.display.max_rows = 10000"
   ]
  },
  {
   "cell_type": "code",
   "execution_count": 4,
   "id": "14daa600-f678-4720-bd25-f39707264609",
   "metadata": {},
   "outputs": [
    {
     "data": {
      "text/plain": [
       "(83439, 48)"
      ]
     },
     "execution_count": 4,
     "metadata": {},
     "output_type": "execute_result"
    }
   ],
   "source": [
    "# Read data and print shape\n",
    "raw_df = pd.read_csv(DATA_PATH)\n",
    "raw_df.shape"
   ]
  },
  {
   "cell_type": "code",
   "execution_count": 10,
   "id": "89cb946c-3fba-45f2-8710-e21995d337cc",
   "metadata": {},
   "outputs": [
    {
     "data": {
      "text/plain": [
       "ResponseId                                                                  73510\n",
       "MainBranch                                         I am a developer by profession\n",
       "Employment                                                     Employed full-time\n",
       "Country                                                                  Slovenia\n",
       "US_State                                                                      NaN\n",
       "UK_Country                                                                    NaN\n",
       "EdLevel                         Some college/university study without earning ...\n",
       "Age1stCode                                                          11 - 17 years\n",
       "LearnCode                         Other online resources (ex: videos, blogs, etc)\n",
       "YearsCode                                                                       9\n",
       "YearsCodePro                                                     Less than 1 year\n",
       "DevType                                Developer, front-end;Developer, full-stack\n",
       "OrgSize                                                        10 to 19 employees\n",
       "Currency                                                        EUR European Euro\n",
       "CompTotal                                                                    1700\n",
       "CompFreq                                                                  Monthly\n",
       "LanguageHaveWorkedWith           Bash/Shell;C#;HTML/CSS;JavaScript;Node.js;Python\n",
       "LanguageWantToWorkWith                                                       Dart\n",
       "DatabaseHaveWorkedWith                                         MongoDB;PostgreSQL\n",
       "DatabaseWantToWorkWith                                                        NaN\n",
       "PlatformHaveWorkedWith                                    AWS;DigitalOcean;Heroku\n",
       "PlatformWantToWorkWith                                                        NaN\n",
       "WebframeHaveWorkedWith                                    FastAPI;React.js;Vue.js\n",
       "WebframeWantToWorkWith                                                        NaN\n",
       "MiscTechHaveWorkedWith                     .NET Core / .NET 5;NumPy;Torch/PyTorch\n",
       "MiscTechWantToWorkWith                                                        NaN\n",
       "ToolsTechHaveWorkedWith                                  Docker;Git;Unity 3D;Yarn\n",
       "ToolsTechWantToWorkWith                                                       NaN\n",
       "NEWCollabToolsHaveWorkedWith    Android Studio;PyCharm;Rider;Visual Studio Cod...\n",
       "NEWCollabToolsWantToWorkWith                                                  NaN\n",
       "OpSys                                                                     Windows\n",
       "NEWStuck                                                                Google it\n",
       "NEWSOSites                                          Stack Overflow;Stack Exchange\n",
       "SOVisitFreq                                                Multiple times per day\n",
       "SOAccount                                                                     Yes\n",
       "SOPartFreq                      I have never participated in Q&A on Stack Over...\n",
       "SOComm                                                             No, not really\n",
       "NEWOtherComms                                                                  No\n",
       "Age                                                               25-34 years old\n",
       "Gender                                                                        Man\n",
       "Trans                                                                          No\n",
       "Sexuality                                                                     NaN\n",
       "Ethnicity                                            White or of European descent\n",
       "Accessibility                                                   None of the above\n",
       "MentalHealth                                                    None of the above\n",
       "SurveyLength                                                Appropriate in length\n",
       "SurveyEase                                             Neither easy nor difficult\n",
       "ConvertedCompYearly                                                         22056\n",
       "Name: 73509, dtype: object"
      ]
     },
     "execution_count": 10,
     "metadata": {},
     "output_type": "execute_result"
    }
   ],
   "source": [
    "# Display random answer \n",
    "# Observations: Multiple answers need to be splitted \n",
    "# Reference to the schema needed to understand\n",
    "raw_df.sample(1).iloc[0]"
   ]
  },
  {
   "cell_type": "code",
   "execution_count": 6,
   "id": "b7c8c99e-8e63-49d2-a31c-9640e2d4511d",
   "metadata": {},
   "outputs": [
    {
     "name": "stdout",
     "output_type": "stream",
     "text": [
      "<class 'pandas.core.frame.DataFrame'>\n",
      "RangeIndex: 83439 entries, 0 to 83438\n",
      "Data columns (total 48 columns):\n",
      "ResponseId                      83439 non-null int64\n",
      "MainBranch                      83439 non-null object\n",
      "Employment                      83323 non-null object\n",
      "Country                         83439 non-null object\n",
      "US_State                        14920 non-null object\n",
      "UK_Country                      4418 non-null object\n",
      "EdLevel                         83126 non-null object\n",
      "Age1stCode                      83243 non-null object\n",
      "LearnCode                       82963 non-null object\n",
      "YearsCode                       81641 non-null object\n",
      "YearsCodePro                    61216 non-null object\n",
      "DevType                         66484 non-null object\n",
      "OrgSize                         60726 non-null object\n",
      "Currency                        61080 non-null object\n",
      "CompTotal                       47183 non-null float64\n",
      "CompFreq                        52150 non-null object\n",
      "LanguageHaveWorkedWith          82357 non-null object\n",
      "LanguageWantToWorkWith          76821 non-null object\n",
      "DatabaseHaveWorkedWith          69546 non-null object\n",
      "DatabaseWantToWorkWith          58299 non-null object\n",
      "PlatformHaveWorkedWith          52135 non-null object\n",
      "PlatformWantToWorkWith          41619 non-null object\n",
      "WebframeHaveWorkedWith          61707 non-null object\n",
      "WebframeWantToWorkWith          52095 non-null object\n",
      "MiscTechHaveWorkedWith          47055 non-null object\n",
      "MiscTechWantToWorkWith          38021 non-null object\n",
      "ToolsTechHaveWorkedWith         72537 non-null object\n",
      "ToolsTechWantToWorkWith         65480 non-null object\n",
      "NEWCollabToolsHaveWorkedWith    81234 non-null object\n",
      "NEWCollabToolsWantToWorkWith    73022 non-null object\n",
      "OpSys                           83294 non-null object\n",
      "NEWStuck                        83052 non-null object\n",
      "NEWSOSites                      83171 non-null object\n",
      "SOVisitFreq                     82413 non-null object\n",
      "SOAccount                       82525 non-null object\n",
      "SOPartFreq                      67553 non-null object\n",
      "SOComm                          82319 non-null object\n",
      "NEWOtherComms                   82828 non-null object\n",
      "Age                             82407 non-null object\n",
      "Gender                          82286 non-null object\n",
      "Trans                           80678 non-null object\n",
      "Sexuality                       73366 non-null object\n",
      "Ethnicity                       79464 non-null object\n",
      "Accessibility                   77603 non-null object\n",
      "MentalHealth                    76920 non-null object\n",
      "SurveyLength                    81711 non-null object\n",
      "SurveyEase                      81948 non-null object\n",
      "ConvertedCompYearly             46844 non-null float64\n",
      "dtypes: float64(2), int64(1), object(45)\n",
      "memory usage: 30.6+ MB\n"
     ]
    }
   ],
   "source": [
    "# Print the general information of the data frame \n",
    "raw_df.info()"
   ]
  },
  {
   "cell_type": "code",
   "execution_count": 7,
   "id": "79104441-e888-4cb5-a290-5da6dd5d4f84",
   "metadata": {},
   "outputs": [
    {
     "data": {
      "text/html": [
       "<div>\n",
       "<style scoped>\n",
       "    .dataframe tbody tr th:only-of-type {\n",
       "        vertical-align: middle;\n",
       "    }\n",
       "\n",
       "    .dataframe tbody tr th {\n",
       "        vertical-align: top;\n",
       "    }\n",
       "\n",
       "    .dataframe thead th {\n",
       "        text-align: right;\n",
       "    }\n",
       "</style>\n",
       "<table border=\"1\" class=\"dataframe\">\n",
       "  <thead>\n",
       "    <tr style=\"text-align: right;\">\n",
       "      <th></th>\n",
       "      <th>ResponseId</th>\n",
       "      <th>CompTotal</th>\n",
       "      <th>ConvertedCompYearly</th>\n",
       "    </tr>\n",
       "  </thead>\n",
       "  <tbody>\n",
       "    <tr>\n",
       "      <td>count</td>\n",
       "      <td>83439.000000</td>\n",
       "      <td>4.718300e+04</td>\n",
       "      <td>4.684400e+04</td>\n",
       "    </tr>\n",
       "    <tr>\n",
       "      <td>mean</td>\n",
       "      <td>41720.000000</td>\n",
       "      <td>2.119407e+69</td>\n",
       "      <td>1.184262e+05</td>\n",
       "    </tr>\n",
       "    <tr>\n",
       "      <td>std</td>\n",
       "      <td>24086.908893</td>\n",
       "      <td>4.603702e+71</td>\n",
       "      <td>5.272944e+05</td>\n",
       "    </tr>\n",
       "    <tr>\n",
       "      <td>min</td>\n",
       "      <td>1.000000</td>\n",
       "      <td>0.000000e+00</td>\n",
       "      <td>1.000000e+00</td>\n",
       "    </tr>\n",
       "    <tr>\n",
       "      <td>25%</td>\n",
       "      <td>20860.500000</td>\n",
       "      <td>1.600000e+04</td>\n",
       "      <td>2.702500e+04</td>\n",
       "    </tr>\n",
       "    <tr>\n",
       "      <td>50%</td>\n",
       "      <td>41720.000000</td>\n",
       "      <td>6.700000e+04</td>\n",
       "      <td>5.621100e+04</td>\n",
       "    </tr>\n",
       "    <tr>\n",
       "      <td>75%</td>\n",
       "      <td>62579.500000</td>\n",
       "      <td>1.400000e+05</td>\n",
       "      <td>1.000000e+05</td>\n",
       "    </tr>\n",
       "    <tr>\n",
       "      <td>max</td>\n",
       "      <td>83439.000000</td>\n",
       "      <td>1.000000e+74</td>\n",
       "      <td>4.524131e+07</td>\n",
       "    </tr>\n",
       "  </tbody>\n",
       "</table>\n",
       "</div>"
      ],
      "text/plain": [
       "         ResponseId     CompTotal  ConvertedCompYearly\n",
       "count  83439.000000  4.718300e+04         4.684400e+04\n",
       "mean   41720.000000  2.119407e+69         1.184262e+05\n",
       "std    24086.908893  4.603702e+71         5.272944e+05\n",
       "min        1.000000  0.000000e+00         1.000000e+00\n",
       "25%    20860.500000  1.600000e+04         2.702500e+04\n",
       "50%    41720.000000  6.700000e+04         5.621100e+04\n",
       "75%    62579.500000  1.400000e+05         1.000000e+05\n",
       "max    83439.000000  1.000000e+74         4.524131e+07"
      ]
     },
     "execution_count": 7,
     "metadata": {},
     "output_type": "execute_result"
    }
   ],
   "source": [
    "# Get stats for the numerical column\n",
    "raw_df.describe()"
   ]
  },
  {
   "cell_type": "code",
   "execution_count": 8,
   "id": "e49d9a4d-740c-4d8e-b3b2-ca35793aca45",
   "metadata": {},
   "outputs": [
    {
     "name": "stdout",
     "output_type": "stream",
     "text": [
      "YearsCodePro\n",
      "[nan, '10', '4', '5', '6', '2', '30', '9', '18', '12', '21', '1', '16', 'Less than 1 year', '15', '3', '35', '7', '8', '17', '14', '26', '25', '20', '50', '34', '11', '24', '22', '13', '31', '23', '39', '41', '27', '28', '19', '33', 'More than 50 years', '37', '29', '32', '43', '40', '38', '45', '42', '46', '36', '44', '47', '48', '49']\n",
      "--------------------------\n",
      "\n",
      "YearsCode\n",
      "[nan, '7', '17', '3', '4', '6', '16', '12', '15', '10', '40', '9', '26', '14', '39', '20', '8', '19', '5', 'Less than 1 year', '22', '2', '1', '34', '21', '13', '25', '24', '30', '31', '18', '38', 'More than 50 years', '27', '41', '42', '35', '23', '28', '11', '37', '44', '43', '36', '33', '45', '29', '50', '46', '32', '47', '49', '48']\n",
      "--------------------------\n",
      "\n"
     ]
    }
   ],
   "source": [
    "# Investigate the questionable objects columns\n",
    "questionable_cols = ['YearsCodePro', 'YearsCode']\n",
    "\n",
    "for col in questionable_cols: \n",
    "    print(col)\n",
    "    print(raw_df[col].unique().tolist())\n",
    "    print('--------------------------')\n",
    "    print()"
   ]
  },
  {
   "cell_type": "code",
   "execution_count": null,
   "id": "a8ec8653-ada8-4136-b306-404197674afc",
   "metadata": {},
   "outputs": [],
   "source": []
  }
 ],
 "metadata": {
  "interpreter": {
   "hash": "f089a1fc2b11b0dd410595c86bcecef72556ce1dacd5c2f63c5aeb04966f2754"
  },
  "kernelspec": {
   "display_name": "Python 3.7.4 ('base')",
   "language": "python",
   "name": "python3"
  },
  "language_info": {
   "codemirror_mode": {
    "name": "ipython",
    "version": 3
   },
   "file_extension": ".py",
   "mimetype": "text/x-python",
   "name": "python",
   "nbconvert_exporter": "python",
   "pygments_lexer": "ipython3",
   "version": "3.7.4"
  }
 },
 "nbformat": 4,
 "nbformat_minor": 5
}
